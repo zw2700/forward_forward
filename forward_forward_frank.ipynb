{
  "nbformat": 4,
  "nbformat_minor": 0,
  "metadata": {
    "colab": {
      "provenance": [],
      "gpuType": "T4"
    },
    "kernelspec": {
      "name": "python3",
      "display_name": "Python 3"
    },
    "language_info": {
      "name": "python"
    },
    "accelerator": "GPU"
  },
  "cells": [
    {
      "cell_type": "markdown",
      "source": [
        "##Setup & Dataset Import"
      ],
      "metadata": {
        "id": "ay9ttw0IlPZ2"
      }
    },
    {
      "cell_type": "code",
      "execution_count": 1,
      "metadata": {
        "id": "JqYY0cwIkJmq"
      },
      "outputs": [],
      "source": [
        "import torch\n",
        "from torchvision import datasets\n",
        "from torch.utils.data import DataLoader\n",
        "from torchvision.transforms import ToTensor\n",
        "import torch.nn as nn\n",
        "import matplotlib.pyplot as plt\n",
        "import numpy as np"
      ]
    },
    {
      "cell_type": "code",
      "source": [
        "device = torch.device('cuda' if torch.cuda.is_available() else 'cpu')\n",
        "device"
      ],
      "metadata": {
        "colab": {
          "base_uri": "https://localhost:8080/"
        },
        "id": "yT3vR52KNjgA",
        "outputId": "a5978984-d228-42ca-d7f3-917eee865305"
      },
      "execution_count": 2,
      "outputs": [
        {
          "output_type": "execute_result",
          "data": {
            "text/plain": [
              "device(type='cpu')"
            ]
          },
          "metadata": {},
          "execution_count": 2
        }
      ]
    },
    {
      "cell_type": "code",
      "source": [
        "# import MNIST\n",
        "train_data = datasets.MNIST(\n",
        "    root = './data',\n",
        "    train = True,\n",
        "    transform = ToTensor(),\n",
        "    download = True,\n",
        ")\n",
        "test_data = datasets.MNIST(\n",
        "    root = './data',\n",
        "    train = False,\n",
        "    transform = ToTensor()\n",
        ")"
      ],
      "metadata": {
        "colab": {
          "base_uri": "https://localhost:8080/"
        },
        "id": "eGYNvwIhker4",
        "outputId": "e3feb398-482d-4839-ed4f-4b761a155eb1"
      },
      "execution_count": 3,
      "outputs": [
        {
          "output_type": "stream",
          "name": "stdout",
          "text": [
            "Downloading http://yann.lecun.com/exdb/mnist/train-images-idx3-ubyte.gz\n",
            "Downloading http://yann.lecun.com/exdb/mnist/train-images-idx3-ubyte.gz to ./data/MNIST/raw/train-images-idx3-ubyte.gz\n"
          ]
        },
        {
          "output_type": "stream",
          "name": "stderr",
          "text": [
            "100%|██████████| 9912422/9912422 [00:00<00:00, 236899989.43it/s]"
          ]
        },
        {
          "output_type": "stream",
          "name": "stdout",
          "text": [
            "Extracting ./data/MNIST/raw/train-images-idx3-ubyte.gz to ./data/MNIST/raw\n"
          ]
        },
        {
          "output_type": "stream",
          "name": "stderr",
          "text": [
            "\n"
          ]
        },
        {
          "output_type": "stream",
          "name": "stdout",
          "text": [
            "\n",
            "Downloading http://yann.lecun.com/exdb/mnist/train-labels-idx1-ubyte.gz\n",
            "Downloading http://yann.lecun.com/exdb/mnist/train-labels-idx1-ubyte.gz to ./data/MNIST/raw/train-labels-idx1-ubyte.gz\n"
          ]
        },
        {
          "output_type": "stream",
          "name": "stderr",
          "text": [
            "100%|██████████| 28881/28881 [00:00<00:00, 35357762.35it/s]"
          ]
        },
        {
          "output_type": "stream",
          "name": "stdout",
          "text": [
            "Extracting ./data/MNIST/raw/train-labels-idx1-ubyte.gz to ./data/MNIST/raw\n",
            "\n",
            "Downloading http://yann.lecun.com/exdb/mnist/t10k-images-idx3-ubyte.gz\n"
          ]
        },
        {
          "output_type": "stream",
          "name": "stderr",
          "text": [
            "\n"
          ]
        },
        {
          "output_type": "stream",
          "name": "stdout",
          "text": [
            "Downloading http://yann.lecun.com/exdb/mnist/t10k-images-idx3-ubyte.gz to ./data/MNIST/raw/t10k-images-idx3-ubyte.gz\n"
          ]
        },
        {
          "output_type": "stream",
          "name": "stderr",
          "text": [
            "100%|██████████| 1648877/1648877 [00:00<00:00, 65752287.93it/s]\n"
          ]
        },
        {
          "output_type": "stream",
          "name": "stdout",
          "text": [
            "Extracting ./data/MNIST/raw/t10k-images-idx3-ubyte.gz to ./data/MNIST/raw\n",
            "\n",
            "Downloading http://yann.lecun.com/exdb/mnist/t10k-labels-idx1-ubyte.gz\n",
            "Downloading http://yann.lecun.com/exdb/mnist/t10k-labels-idx1-ubyte.gz to ./data/MNIST/raw/t10k-labels-idx1-ubyte.gz\n"
          ]
        },
        {
          "output_type": "stream",
          "name": "stderr",
          "text": [
            "100%|██████████| 4542/4542 [00:00<00:00, 19088706.18it/s]"
          ]
        },
        {
          "output_type": "stream",
          "name": "stdout",
          "text": [
            "Extracting ./data/MNIST/raw/t10k-labels-idx1-ubyte.gz to ./data/MNIST/raw\n",
            "\n"
          ]
        },
        {
          "output_type": "stream",
          "name": "stderr",
          "text": [
            "\n"
          ]
        }
      ]
    },
    {
      "cell_type": "code",
      "source": [
        "# Dataloader\n",
        "loaders = {\n",
        "    'train' : torch.utils.data.DataLoader(train_data,\n",
        "                                          batch_size=1,\n",
        "                                          shuffle=True,\n",
        "                                          num_workers=1),\n",
        "\n",
        "    'test'  : torch.utils.data.DataLoader(test_data,\n",
        "                                          batch_size=1,\n",
        "                                          shuffle=False,\n",
        "                                          num_workers=1),\n",
        "}\n",
        "loaders"
      ],
      "metadata": {
        "colab": {
          "base_uri": "https://localhost:8080/"
        },
        "id": "y4C-DcpX9p2o",
        "outputId": "b85b7a88-7e2a-4738-ed7a-f69dfdd88ac3"
      },
      "execution_count": 4,
      "outputs": [
        {
          "output_type": "execute_result",
          "data": {
            "text/plain": [
              "{'train': <torch.utils.data.dataloader.DataLoader at 0x7f129b676500>,\n",
              " 'test': <torch.utils.data.dataloader.DataLoader at 0x7f129b675240>}"
            ]
          },
          "metadata": {},
          "execution_count": 4
        }
      ]
    },
    {
      "cell_type": "markdown",
      "source": [
        "## Construct Negative Examples for Unsupervised Training\n",
        "\n"
      ],
      "metadata": {
        "id": "8xEIHA2ZN1wj"
      }
    },
    {
      "cell_type": "code",
      "source": [
        "filter = torch.tensor([[0.0625,0.125,0.0625],[0.125,0.25,0.125],[0.0625,0.125,0.0625]])\n",
        "\n",
        "def blur(img,filter):\n",
        "  # blur img using filter\n",
        "  # params: filter --> torch.tensor(2*radius+1,2*radius+1)\n",
        "  m,n = img.shape\n",
        "  radius = (filter.shape[0]-1)//2\n",
        "  new_img = torch.zeros(m,n)\n",
        "  for i in range(m):\n",
        "    for j in range(n):\n",
        "      top,left,bottom,right = max(0,i-radius),max(0,j-radius),min(m-1,i+radius),min(m-1,j+radius)\n",
        "      new_img[i][j] = sum([img[x][y]*filter[x-i+radius][y-j+radius]\n",
        "                           for y in range(left,right+1) for x in range(top,bottom+1)])\n",
        "  return new_img\n",
        "\n",
        "def generate_negative_example():\n",
        "  # construct a negative example for unsupervised case (3.2 in paper)\n",
        "  mask = (torch.rand(28,28) > 0.5).long() # initiate as random bit image\n",
        "\n",
        "  for i in range(6): # repeat blurring 6 times\n",
        "    mask = blur(mask,filter)\n",
        "\n",
        "  mask = (mask > 0.5).long() # mask\n",
        "\n",
        "  index1,index2 = torch.randint(len(train_data),(2,))\n",
        "  return (mask * train_data[index1][0] + (1-mask) * train_data[index2][0])"
      ],
      "metadata": {
        "id": "rfySAAjudWtk"
      },
      "execution_count": 5,
      "outputs": []
    },
    {
      "cell_type": "markdown",
      "source": [
        "## Model Definition\n",
        "\n"
      ],
      "metadata": {
        "id": "fxx1HhrVZU8b"
      }
    },
    {
      "cell_type": "code",
      "source": [
        "# single-layer NN\n",
        "class one_layer_net(torch.nn.Module):\n",
        "\n",
        "    def __init__(self, in_size, out_size):\n",
        "        super(one_layer_net, self).__init__()\n",
        "\n",
        "        # hidden layer\n",
        "        self.layer = torch.nn.Sequential(\n",
        "            torch.nn.Flatten(), # nn.Flatten to standardize input shape\n",
        "            torch.nn.Linear(in_size, out_size),\n",
        "            torch.nn.ReLU() # activation function\n",
        "        )\n",
        "\n",
        "    def forward(self, x):\n",
        "      return self.layer(x)"
      ],
      "metadata": {
        "id": "dOcFixAKTEOh"
      },
      "execution_count": 6,
      "outputs": []
    },
    {
      "cell_type": "code",
      "source": [
        "# full network\n",
        "class net(torch.nn.Module):\n",
        "  # Constructor\n",
        "  def __init__(self,in_size):\n",
        "    super(net, self).__init__()\n",
        "    self.layer1 = one_layer_net(in_size,2000)\n",
        "    self.layer2 = one_layer_net(2000,2000)\n",
        "    self.layer3 = one_layer_net(2000,2000)\n",
        "    self.layer4 = one_layer_net(2000,2000)\n",
        "    self.ln = torch.nn.LayerNorm(2000) # layernorm\n",
        "\n",
        "    # softmax layer for hard negative label generation\n",
        "    self.out_layer = torch.nn.Linear(6000, 10)\n",
        "    self.sm = torch.nn.Softmax(dim=0) # softmax\n",
        "\n",
        "    self.layers = [self.layer1,self.layer2,self.layer3,self.layer4,self.out_layer]\n",
        "\n",
        "  def forward(self,x):\n",
        "    # x-->tensor (channel,height,width) or (height,width)\n",
        "    interms = []\n",
        "    interm = x.detach().clone().unsqueeze(0)\n",
        "\n",
        "    for index in range(len(self.layers)-1):\n",
        "      layer = self.layers[index] # linear layer\n",
        "      interm = self.ln(layer(interm)) # layer-norm\n",
        "      interms.append(interm.detach().clone()) # store normalized activity\n",
        "\n",
        "    final_input = torch.cat(interms[1:],dim=1)\n",
        "    res = self.out_layer(final_input) # final output layer\n",
        "    return res\n",
        "\n",
        "  def predict(self,x):\n",
        "    # x-->tensor (channel,height,width) or (height,width)\n",
        "\n",
        "    accumulate_goodness = np.zeros(10)\n",
        "    for i in range(10): # iterate through all labels\n",
        "      interm = x.detach().clone().squeeze()\n",
        "\n",
        "      # update one-hot label encoding\n",
        "      interm[0][:10] = 0\n",
        "      interm[0][i] = 1\n",
        "\n",
        "      for index in range(len(self.layers)-1):\n",
        "        interm = interm.unsqueeze(0)\n",
        "        layer = self.layers[index]\n",
        "        interm = layer(interm)\n",
        "\n",
        "        if index > 0: # accumulate goodness for all but first layers\n",
        "          accumulate_goodness[i] += self.goodness(interm)\n",
        "\n",
        "        if index + 1 < len(self.layers): # layernorm\n",
        "          interm = self.ln(interm)\n",
        "    return np.argmax(accumulate_goodness)\n",
        "\n",
        "  def goodness(self,x):\n",
        "    # goodness functions--sum of squares\n",
        "    return torch.sum(torch.square(x))\n",
        "\n",
        "  def construct_supervised_example(self,x,label,positive=True):\n",
        "    # construct positive or negative examples for supervised training\n",
        "    # x-->tensor (channel,height,width)\n",
        "    # label-->int\n",
        "    ans = x.detach().clone().squeeze()\n",
        "    if positive:\n",
        "      # one-hot encoding\n",
        "      ans[0][:10] = 0\n",
        "      ans[0][label] = 1\n",
        "    else:\n",
        "      ans[0][:10] = 0.1 # initialize neutral label\n",
        "\n",
        "      # run forward pass\n",
        "      labels = self.forward(ans).squeeze()\n",
        "      labels[label] = -float('inf')\n",
        "      prob = self.sm(labels).cpu() # probability distribution to choose label\n",
        "\n",
        "      # generate negative example from forward pass\n",
        "      r = np.random.choice(np.arange(10),p=prob.detach().numpy())\n",
        "      ans[0][:10] = 0\n",
        "      ans[0][r] = 1\n",
        "\n",
        "    return ans.unsqueeze(0) # in shape (C,H,W)"
      ],
      "metadata": {
        "id": "0iLwMtYODMgb"
      },
      "execution_count": 7,
      "outputs": []
    },
    {
      "cell_type": "markdown",
      "source": [
        "## Model Training"
      ],
      "metadata": {
        "id": "Hi5CDidzl5jN"
      }
    },
    {
      "cell_type": "code",
      "source": [
        "# create model\n",
        "model = net(784)\n",
        "model.to(device)"
      ],
      "metadata": {
        "id": "mXS93nQJOmoD",
        "colab": {
          "base_uri": "https://localhost:8080/"
        },
        "outputId": "0870106f-5325-41b4-d655-2547362940eb"
      },
      "execution_count": 8,
      "outputs": [
        {
          "output_type": "execute_result",
          "data": {
            "text/plain": [
              "net(\n",
              "  (layer1): one_layer_net(\n",
              "    (layer): Sequential(\n",
              "      (0): Flatten(start_dim=1, end_dim=-1)\n",
              "      (1): Linear(in_features=784, out_features=2000, bias=True)\n",
              "      (2): ReLU()\n",
              "    )\n",
              "  )\n",
              "  (layer2): one_layer_net(\n",
              "    (layer): Sequential(\n",
              "      (0): Flatten(start_dim=1, end_dim=-1)\n",
              "      (1): Linear(in_features=2000, out_features=2000, bias=True)\n",
              "      (2): ReLU()\n",
              "    )\n",
              "  )\n",
              "  (layer3): one_layer_net(\n",
              "    (layer): Sequential(\n",
              "      (0): Flatten(start_dim=1, end_dim=-1)\n",
              "      (1): Linear(in_features=2000, out_features=2000, bias=True)\n",
              "      (2): ReLU()\n",
              "    )\n",
              "  )\n",
              "  (layer4): one_layer_net(\n",
              "    (layer): Sequential(\n",
              "      (0): Flatten(start_dim=1, end_dim=-1)\n",
              "      (1): Linear(in_features=2000, out_features=2000, bias=True)\n",
              "      (2): ReLU()\n",
              "    )\n",
              "  )\n",
              "  (ln): LayerNorm((2000,), eps=1e-05, elementwise_affine=True)\n",
              "  (out_layer): Linear(in_features=6000, out_features=10, bias=True)\n",
              "  (sm): Softmax(dim=0)\n",
              ")"
            ]
          },
          "metadata": {},
          "execution_count": 8
        }
      ]
    },
    {
      "cell_type": "code",
      "source": [
        "# apply xavier initialization on weights\n",
        "def init_weights(m):\n",
        "    if isinstance(m, nn.Linear):\n",
        "        torch.nn.init.xavier_uniform_(m.weight)\n",
        "        m.bias.data.fill_(0.01)"
      ],
      "metadata": {
        "id": "kC0QvPgPfknW"
      },
      "execution_count": 9,
      "outputs": []
    },
    {
      "cell_type": "code",
      "source": [
        "# design loss function\n",
        "def goodness_loss(pos_goodness,neg_goodness):\n",
        "  # loss function intended for maximizing goodness in positive examples\n",
        "  # and minimizing goodness in negative examples\n",
        "  return torch.log(1+torch.exp(neg_goodness-pos_goodness))\n",
        "\n",
        "\n",
        "# CrossEntropyLoss for final softmax layer optimization\n",
        "ceLoss = torch.nn.CrossEntropyLoss()"
      ],
      "metadata": {
        "id": "-KK7uRkQMKTi"
      },
      "execution_count": 10,
      "outputs": []
    },
    {
      "cell_type": "code",
      "source": [
        "# train model\n",
        "\n",
        "def train(num_epochs, model, loaders, supervised = True):\n",
        "\n",
        "    model.train()\n",
        "\n",
        "    # variables for training output\n",
        "    total_step = len(loaders['train'])\n",
        "    total_pos_goodness,total_neg_goodness = [0]*(len(model.layers)-1),[0]*(len(model.layers)-1)\n",
        "    total_loss = [0]*(len(model.layers))\n",
        "\n",
        "    optimizers = []\n",
        "    lrs = [1e-3,3e-4,1e-4,5e-5,1e-3]\n",
        "    # initialize each layer\n",
        "    for index in range(len(model.layers)):\n",
        "      # layer & training initialization\n",
        "      layer = model.layers[index]\n",
        "      layer.apply(init_weights)\n",
        "      optimizers.append(torch.optim.SGD(layer.parameters(), lr=lrs[index],weight_decay=1e-5))\n",
        "\n",
        "    for epoch in range(num_epochs):\n",
        "        for i,(x,label) in enumerate(loaders['train']): # iterate through dataset\n",
        "\n",
        "            x = x.to(device)\n",
        "            if not supervised: # unsupervised training input\n",
        "              pos_img = x.squeeze()\n",
        "              neg_img = generate_negative_example().squeeze().to(device)\n",
        "            else: # supervised learning input\n",
        "              pos_img = model.construct_supervised_example(x,label[0],True)\n",
        "              neg_img = model.construct_supervised_example(x,label[0],False)\n",
        "\n",
        "            # intermediate variables\n",
        "            pos_interms = []\n",
        "            neg_interms = []\n",
        "            pos_interm = pos_img.clone()\n",
        "            neg_interm = neg_img.clone()\n",
        "\n",
        "            # iterate over intermediate layers\n",
        "            for index in range(len(model.layers)-1):\n",
        "              layer = model.layers[index]\n",
        "              optimizer = optimizers[index]\n",
        "\n",
        "              # positive pass\n",
        "              pos_output = layer(pos_interm)\n",
        "              pos_goodness = model.goodness(pos_output)\n",
        "              pos_interm = model.ln(pos_output)\n",
        "              pos_interms.append(pos_interm.detach().clone())\n",
        "\n",
        "              # negative pass\n",
        "              neg_output = layer(neg_interm)\n",
        "              neg_goodness = model.goodness(neg_output)\n",
        "              neg_interm = model.ln(neg_output)\n",
        "              neg_interms.append(neg_interm.detach().clone())\n",
        "\n",
        "              # loss\n",
        "              loss = goodness_loss(pos_goodness,neg_goodness)\n",
        "\n",
        "              # update variables\n",
        "              total_pos_goodness[index] += pos_goodness\n",
        "              total_neg_goodness[index] += neg_goodness\n",
        "              total_loss[index] += loss\n",
        "\n",
        "              # clear gradients for this training step\n",
        "              optimizer.zero_grad()\n",
        "\n",
        "              # backpropagation, compute gradients\n",
        "              loss.backward()\n",
        "\n",
        "              # clip gradients to avoid exploding gradients\n",
        "              torch.nn.utils.clip_grad_norm_(parameters=layer.parameters(), max_norm=1,norm_type=2.0)\n",
        "\n",
        "              # apply gradient descent step\n",
        "              optimizer.step()\n",
        "\n",
        "              if (i+1) % 10000 == 0:\n",
        "                  print ('Layer {}, Epoch [{}/{}], Step [{}/{}], Positive Goodness: {:.4f}, Negative Goodness: {:.4f}, Loss: {:.4f}'\n",
        "                        .format(index, epoch + 1, num_epochs, i + 1, total_step, total_pos_goodness[index]/10000, total_neg_goodness[index]/10000, total_loss[index]/10000))\n",
        "                  total_pos_goodness[index],total_neg_goodness[index],total_loss[index] = 0,0,0\n",
        "\n",
        "            # output layer\n",
        "            final_input = torch.cat(pos_interms[1:],dim=1)\n",
        "            labels = model.layers[-1](final_input).reshape(-1)\n",
        "            loss = ceLoss(labels,label[0].to(device))\n",
        "            total_loss[-1] += loss\n",
        "\n",
        "            optimizers[-1].zero_grad()\n",
        "            loss.backward(retain_graph=True)\n",
        "            torch.nn.utils.clip_grad_norm_(parameters=model.layers[-1].parameters(), max_norm=1,norm_type=2.0)\n",
        "            optimizers[-1].step()\n",
        "\n",
        "            if (i+1) % 10000 == 0:\n",
        "              print ('Layer {}, Epoch [{}/{}], Step [{}/{}], Loss: {:.4f}'\n",
        "                    .format(index, epoch + 1, num_epochs, i + 1, total_step, total_loss[-1]/10000))\n",
        "              total_loss[-1] = 0\n",
        "\n",
        "            # return\n",
        "\n",
        "        pass\n",
        "\n",
        "    # save model every 5 epochs\n",
        "    if (epoch+1) % 5 == 0:\n",
        "        torch.save(model.state_dict(), 'model_v1.1_epoch{}.pth'.format(epoch+1))\n",
        "    pass\n",
        "num_epochs = 15\n",
        "train(num_epochs, model, loaders)"
      ],
      "metadata": {
        "id": "-ZLMO_AQ2Cj5"
      },
      "execution_count": null,
      "outputs": []
    },
    {
      "cell_type": "code",
      "source": [
        "# feature visualization\n",
        "model.layers[1].layer[1].weight.data[2][:10]"
      ],
      "metadata": {
        "colab": {
          "base_uri": "https://localhost:8080/"
        },
        "id": "wAYjc8TB2ssf",
        "outputId": "3bdfeee7-9050-40d9-b1ac-e5ffcc5522f6"
      },
      "execution_count": 11,
      "outputs": [
        {
          "output_type": "execute_result",
          "data": {
            "text/plain": [
              "tensor([-0.0196,  0.0037, -0.0153,  0.0152,  0.0039,  0.0120, -0.0058, -0.0118,\n",
              "         0.0085,  0.0028])"
            ]
          },
          "metadata": {},
          "execution_count": 11
        }
      ]
    },
    {
      "cell_type": "code",
      "source": [
        "# prediction test & visualization\n",
        "x,y = train_data[40][0].to(device), train_data[40][1]\n",
        "data = model.construct_supervised_example(x,y,False)\n",
        "print(\"Prediction: \", model.predict(data),\" Label: \",y)\n",
        "plt.imshow(data.squeeze().cpu(), cmap='gray')\n",
        "plt.show()"
      ],
      "metadata": {
        "colab": {
          "base_uri": "https://localhost:8080/",
          "height": 448
        },
        "id": "PMheoEy12rn2",
        "outputId": "f6460940-bbef-49f1-c5b5-33ba38555aff"
      },
      "execution_count": 13,
      "outputs": [
        {
          "output_type": "stream",
          "name": "stdout",
          "text": [
            "Prediction:  8  Label:  1\n"
          ]
        },
        {
          "output_type": "display_data",
          "data": {
            "text/plain": [
              "<Figure size 640x480 with 1 Axes>"
            ],
            "image/png": "[encoded data removed]"
          },
          "metadata": {}
        }
      ]
    },
    {
      "cell_type": "code",
      "source": [
        "# model evaluation using test set\n",
        "def test():\n",
        "    model.eval()\n",
        "    with torch.no_grad():\n",
        "        correct = 0\n",
        "        total = 0\n",
        "        for x, label in loaders['test']:\n",
        "            test_output = model.predict(x.to(device))\n",
        "            correct += (test_output == label)\n",
        "            total += 1\n",
        "    print('Test Accuracy of the model on the test set: %.2f' % (correct/total))"
      ],
      "metadata": {
        "id": "K5-yXqsh1-HP"
      },
      "execution_count": 15,
      "outputs": []
    },
    {
      "cell_type": "markdown",
      "source": [
        "## Previous Model Performance"
      ],
      "metadata": {
        "id": "KWYmB7jR9ZXz"
      }
    },
    {
      "cell_type": "code",
      "source": [
        "model.load_state_dict(torch.load('model_v1.pth',map_location=torch.device('cpu')))"
      ],
      "metadata": {
        "colab": {
          "base_uri": "https://localhost:8080/"
        },
        "id": "cLzUiNdH9YWN",
        "outputId": "b2f6ff8d-b849-49e1-97b7-308e5cc99ccc"
      },
      "execution_count": 19,
      "outputs": [
        {
          "output_type": "execute_result",
          "data": {
            "text/plain": [
              "<All keys matched successfully>"
            ]
          },
          "metadata": {},
          "execution_count": 19
        }
      ]
    },
    {
      "cell_type": "code",
      "source": [
        "# adjusted test function (label is messed up when model_v1)\n",
        "def test_v1():\n",
        "    model.eval()\n",
        "    with torch.no_grad():\n",
        "        correct = 0\n",
        "        total = 0\n",
        "        for x, label in loaders['test']:\n",
        "            test_output = model.predict(x.to(device)) + 1\n",
        "            if label == 0:\n",
        "              test_output -= 5\n",
        "            correct += (test_output == label)\n",
        "            total += 1\n",
        "    print()\n",
        "    print('Test Accuracy of the model on the test set: %.2f' % (correct/total))\n",
        "test_v1()"
      ],
      "metadata": {
        "colab": {
          "base_uri": "https://localhost:8080/"
        },
        "id": "JgSMzN_F-Ibw",
        "outputId": "886249df-924d-4661-967c-cf10206446b7"
      },
      "execution_count": 22,
      "outputs": [
        {
          "output_type": "stream",
          "name": "stderr",
          "text": [
            "Exception ignored in: <function _MultiProcessingDataLoaderIter.__del__ at 0x7f129f0bc310>\n",
            "Traceback (most recent call last):\n",
            "  File \"/usr/local/lib/python3.10/dist-packages/torch/utils/data/dataloader.py\", line 1478, in __del__\n",
            "    self._shutdown_workers()\n",
            "  File \"/usr/local/lib/python3.10/dist-packages/torch/utils/data/dataloader.py\", line 1461, in _shutdown_workers\n",
            "    if w.is_alive():\n",
            "  File \"/usr/lib/python3.10/multiprocessing/process.py\", line 160, in is_alive\n",
            "    assert self._parent_pid == os.getpid(), 'can only test a child process'\n",
            "AssertionError: can only test a child process\n"
          ]
        },
        {
          "output_type": "stream",
          "name": "stdout",
          "text": [
            "\n",
            "Test Accuracy of the model on the test set: 0.65\n"
          ]
        }
      ]
    }
  ]
}